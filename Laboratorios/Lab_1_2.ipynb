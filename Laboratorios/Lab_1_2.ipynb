{
 "cells": [
  {
   "cell_type": "markdown",
   "metadata": {},
   "source": [
    "<img src=\"Archivos/miia.jpg\" width=800x>\n",
    "\n",
    "# Laboratorio 1\n",
    "\n",
    "## Desarrollo de una herramienta analítica usando solo Python\n",
    "\n",
    "Este laboratorio busca evaluar las habilidades relacionadas con la primera parte del curso, correspondiente a las primeras tres semanas. Este enunciado estará disponible desde la semana 2 y deberá entregarse al final de la semana 4 en el enlace correspondiente. Su desarrollo corresponde al 30% de la calificación total del curso.\n",
    "\n",
    "Esta actividad responde directamente al segundo objetivo del curso:\n",
    "* Implementar una herramienta analítica que permita responder una pregunta de negocio para un problema sencillo de analítica de datos, utilizando únicamente algorítmica básica en Python.\n",
    "\n",
    "Al desarrollar este laboratorio pondrás a prueba tus habilidades para: \n",
    "1. Leer datos desde archivos.\n",
    "2. Almacenar datos en  estructuras de Python.\n",
    "3. Crear y llamar funciones correctamente.\n",
    "4. Implementar condicionales diferenciando *if*, *elif* y *else*\n",
    "5. Implementar ciclos diferenciando el propósito de *for* y *while*\n",
    "6. Importar paquetes y utilizar sus funciones.\n",
    "\n",
    "**NOTAS:**\n",
    "- Te recomendamos leer por completo el enunciado del laboratorio antes de comenzar, de forma que tengas claro el propósito completo de la actividad, y puedas desarrollar tu solución apuntando a él desde el comienzo.\n"
   ]
  },
  {
   "cell_type": "markdown",
   "metadata": {},
   "source": [
    "## Contexto: exploración del potencial para asignar becas Uniandes\n",
    "La Universidad de los Andes se ha caracterizado por su compromiso con la generación de impacto en la sociedad a través de diferentes programas de becas. Programas como Quiero Estudiar, o Ser Pilo Paga, entre otros, han sido revolucionarios, al permitir que estudiantes de bajos recursos puedan acceder a una de las universidades privadas más importantes del país.\n",
    "\n",
    "Actualmente, la Universidad quiere evaluar el potencial impacto que tendrían algunos programas de *acción afirmativa* para asignación de becas, con base en información demográfica que ha obtenido a través de encuestas. Se cuenta con información respecto a la edad, género, estado civil, estrato socio-económico, región de proveniencia, desempeño académico y nivel de escolaridad de las personas que han respondido encuestas. Los encargados de diseñar el programa saben que utilizar criterios basados en este tipo de variables es un tema sensible, pero es necesario si se quieren focalizar las oportunidades en poblaciones menos representadas.\n",
    "\n",
    "El objetivo de este laboratorio es crear una herramienta computacional que permita a un tomador de decisiones explorar qué efecto podría tener el uso de diferentes reglas para seleccionar la población que sería beneficiaria de las becas. Puntualmente, se espera que, dadas unas reglas de selección (ej.: pertenecer a cierta región, rango de edad, etc.), la herramienta ofrezca información sobre la población potencialmente beneficiada, de forma que exista un sustento al momento de definir las reglas de selección."
   ]
  },
  {
   "cell_type": "markdown",
   "metadata": {},
   "source": [
    "## 1. Obtención e inspección de archivos\n",
    "\n",
    "Los datos de encuestas fueron obtenidos como parte de un trabajo de campo, y por limitaciones tecnológicas, solo se cuenta con la información en archivos de texto plano. Cada archivo corresponde a una de las variables antes mencionadas y se puede garantizar que todos relacionan a las personas encuestadas en el mismo orden (i.e., la primera línea de todos los archivos corresponde a datos de la primera persona encuestada, la segunda línea a la segunda persona, etc.).\n",
    "\n",
    "Los archivos con los que se cuenta son:\n",
    "* *edades.txt*: un archivo ordenado con las edades de cada persona de la población encuestada \n",
    "* *género.txt*: un archivo ordenado con el género de cada persona de la población encuestada \n",
    "* *estado_civil.txt*: un archivo ordenado con el estado civil de cada persona de la población encuestada \n",
    "* *escolaridad.txt*: un archivo ordenado con el nivel de escolaridad de cada persona de la población encuestada \n",
    "* *estrato.txt*: un archivo ordenado con el estrato socio-económico de cada persona de la población encuestada\n",
    "* *region.txt*: un archivo ordenado con la región de proveniencia de cada persona de la población encuestada"
   ]
  },
  {
   "cell_type": "markdown",
   "metadata": {},
   "source": [
    "**Misión 1**\n",
    "\n",
    "Poner en variables de Python la información que está en los archivos listados arriba.\n",
    "\n",
    "* *Versión base*: escribe línea a línea el código necesario para poner en variables de Python la información de cada uno de los archivos.\n",
    "\n",
    "* *Milla extra*: escribe una función que sea capaz de hacer lo anterior para un archivo y úsala en un ciclo para automatizar la lectura de los diferentes archivos."
   ]
  },
  {
   "cell_type": "code",
   "execution_count": 27,
   "metadata": {},
   "outputs": [],
   "source": [
    "# código\n",
    "import pandas as pd\n",
    "from glob import glob\n",
    "\n",
    "archivos = glob('Archivos/*.txt')\n",
    "tmp = []\n",
    "\n",
    "for a in archivos:\n",
    "    tmp.append(pd.read_csv(a, header=None, names = [a[a.index('/')+1:a.index('.')]]))\n",
    "\n",
    "ds = pd.concat(tmp, axis=1)"
   ]
  },
  {
   "cell_type": "markdown",
   "metadata": {},
   "source": [
    "**Misión 2**\n",
    "\n",
    "Reportar las principales características en los datos.\n",
    "* *Versión base*: utilizar métricas básicas como conteos o promedios por categorías en los datos.\n",
    "* *Milla extra*: utilizar visualizaciones simples como diagramas de barras, de pastel u otros."
   ]
  },
  {
   "cell_type": "code",
   "execution_count": 205,
   "metadata": {},
   "outputs": [],
   "source": [
    "import seaborn as sns\n",
    "import matplotlib.pyplot as plt\n",
    "\n",
    "def propiedades(ds, column, charts=False):\n",
    "    desc = ds[column].describe()\n",
    "    if charts:\n",
    "        if ds[column].dtype in ['int64', 'float64']:\n",
    "            sns.boxplot(ds[column])\n",
    "        else:\n",
    "            tmp = ds.groupby(column).aggregate({column:'count'})\n",
    "            sns.barplot(x=tmp.index, y=tmp[column])\n",
    "\n",
    "        plt.show()\n",
    "        \n",
    "    return desc\n",
    "    "
   ]
  },
  {
   "cell_type": "code",
   "execution_count": 209,
   "metadata": {},
   "outputs": [
    {
     "name": "stdout",
     "output_type": "stream",
     "text": [
      "edad\n"
     ]
    },
    {
     "data": {
      "image/png": "[encoded data removed]",
      "text/plain": [
       "<Figure size 432x288 with 1 Axes>"
      ]
     },
     "metadata": {
      "needs_background": "light"
     },
     "output_type": "display_data"
    },
    {
     "name": "stdout",
     "output_type": "stream",
     "text": [
      "count    500.000000\n",
      "mean      48.748000\n",
      "std       18.613474\n",
      "min       18.000000\n",
      "25%       32.000000\n",
      "50%       49.000000\n",
      "75%       65.250000\n",
      "max       80.000000\n",
      "Name: edad, dtype: float64\n",
      "estrato\n"
     ]
    },
    {
     "data": {
      "image/png": "[encoded data removed]",
      "text/plain": [
       "<Figure size 432x288 with 1 Axes>"
      ]
     },
     "metadata": {
      "needs_background": "light"
     },
     "output_type": "display_data"
    },
    {
     "name": "stdout",
     "output_type": "stream",
     "text": [
      "count     500\n",
      "unique      5\n",
      "top         2\n",
      "freq      185\n",
      "Name: estrato, dtype: object\n",
      "region\n"
     ]
    },
    {
     "data": {
      "image/png": "[encoded data removed]",
      "text/plain": [
       "<Figure size 432x288 with 1 Axes>"
      ]
     },
     "metadata": {
      "needs_background": "light"
     },
     "output_type": "display_data"
    },
    {
     "name": "stdout",
     "output_type": "stream",
     "text": [
      "count        500\n",
      "unique         5\n",
      "top       Caribe\n",
      "freq         193\n",
      "Name: region, dtype: object\n",
      "estado_civil\n"
     ]
    },
    {
     "data": {
      "image/png": "[encoded data removed]",
      "text/plain": [
       "<Figure size 432x288 with 1 Axes>"
      ]
     },
     "metadata": {
      "needs_background": "light"
     },
     "output_type": "display_data"
    },
    {
     "name": "stdout",
     "output_type": "stream",
     "text": [
      "count        500\n",
      "unique         4\n",
      "top       casada\n",
      "freq         199\n",
      "Name: estado_civil, dtype: object\n",
      "promedio\n"
     ]
    },
    {
     "data": {
      "image/png": "[encoded data removed]",
      "text/plain": [
       "<Figure size 432x288 with 1 Axes>"
      ]
     },
     "metadata": {
      "needs_background": "light"
     },
     "output_type": "display_data"
    },
    {
     "name": "stdout",
     "output_type": "stream",
     "text": [
      "count    500.000000\n",
      "mean       2.621200\n",
      "std        1.117035\n",
      "min        0.000000\n",
      "25%        1.975000\n",
      "50%        2.700000\n",
      "75%        3.425000\n",
      "max        5.000000\n",
      "Name: promedio, dtype: float64\n",
      "escolaridad\n"
     ]
    },
    {
     "data": {
      "image/png": "[encoded data removed]",
      "text/plain": [
       "<Figure size 432x288 with 1 Axes>"
      ]
     },
     "metadata": {
      "needs_background": "light"
     },
     "output_type": "display_data"
    },
    {
     "name": "stdout",
     "output_type": "stream",
     "text": [
      "count            500\n",
      "unique             4\n",
      "top       Secundaria\n",
      "freq             343\n",
      "Name: escolaridad, dtype: object\n",
      "genero\n"
     ]
    },
    {
     "data": {
      "image/png": "[encoded data removed]",
      "text/plain": [
       "<Figure size 432x288 with 1 Axes>"
      ]
     },
     "metadata": {
      "needs_background": "light"
     },
     "output_type": "display_data"
    },
    {
     "name": "stdout",
     "output_type": "stream",
     "text": [
      "count          500\n",
      "unique           4\n",
      "top       femenino\n",
      "freq           251\n",
      "Name: genero, dtype: object\n"
     ]
    }
   ],
   "source": [
    "for c in ds.columns:\n",
    "    print(c)\n",
    "    print(propiedades(ds,c, True))"
   ]
  },
  {
   "cell_type": "markdown",
   "metadata": {},
   "source": [
    "## 2. Abordaje de la pregunta de negocio\n",
    "\n",
    "El comité encargado de diseñar el programa de becas ha tenido dificultades para llegar a acuerdos. Algunos piensan que el criterio principal de selección debería ser respecto a lo económico y académico, sin importar otras características personales, mientras que otros piensan que considerar estas características es, de hecho, parte del espíritu del programa.\n",
    "\n",
    "* El primer grupo sugiere que se deben tomar en orden ascendente los estratos y elegir, en cada uno de ellos, al 2% de personas con promedio académico superior en esa sub-población, hasta que se agoten las becas disponibles. En caso de quedar becas disponibles al final del proceso, se repite el mismo esquema, considerando que ya no se tienen en cuenta las personas que hayan sido elegidas en rondas anteriores.\n",
    "\n",
    "* El segundo grupo sugiere que los recibidores de becas deben estar igualmente distribuidos entre las diferentes regiones y generos, considerando, por supuesto, que para cada una de esas sub-poblaciones, las personas elegidas sean las de mejores promedios académicos.\n",
    "\n",
    "Dado que las diferencias entre estos grupos obedecen a su entendimiento particular del problema, el presidente del comité propone utilizar los datos disponibles de las encuestas, sugiriendo que se analice qué características tendría la población de elegidos bajo cada uno de los dos criterios expuestos."
   ]
  },
  {
   "cell_type": "markdown",
   "metadata": {},
   "source": [
    "**Misión 3**\n",
    "\n",
    "Defina la pregunta de negocio y la pregunta de *analytics* para esta situación."
   ]
  },
  {
   "cell_type": "code",
   "execution_count": 49,
   "metadata": {},
   "outputs": [],
   "source": [
    "# respuesta en texto (solo leeremos los primeros 300 caracteres de la respuesta)\n",
    "\n",
    "pregunta_negocio = '¿Cuál es el mejor criterio para seleccionar los becarios?'\n",
    "\n",
    "pregunta_analytics = '¿Cómo segmentar la población de acuerdo a las características de la misma e identificar grupo de interés?'"
   ]
  },
  {
   "cell_type": "code",
   "execution_count": 50,
   "metadata": {},
   "outputs": [
    {
     "name": "stdout",
     "output_type": "stream",
     "text": [
      "57\n",
      "105\n"
     ]
    }
   ],
   "source": [
    "print(len(pregunta_negocio))\n",
    "print(len(pregunta_analytics))"
   ]
  },
  {
   "cell_type": "markdown",
   "metadata": {},
   "source": [
    "**Misión 4**\n",
    "\n",
    "Desarrollar un algoritmo que permita conocer la población que sería becada según los criterios propuestos por el *primer grupo* mencionado arriba."
   ]
  },
  {
   "cell_type": "code",
   "execution_count": 260,
   "metadata": {},
   "outputs": [],
   "source": [
    "# código\n",
    "import math\n",
    "import numpy as np\n",
    "\n",
    "def selector_becas_metodo_a(ds, column, becas):\n",
    "    flag = True\n",
    "    poblacion = dict()\n",
    "    vector_base = dict()\n",
    "    matriz_asignacion = dict()\n",
    "    \n",
    "\n",
    "    for i in sorted(ds[column].unique()):\n",
    "        poblacion[i] = ds.loc[ds[column] == i].shape[0]\n",
    "        vector_base[i] = math.ceil(ds.loc[ds[column] == i].shape[0]*factor)\n",
    "    \n",
    "    for i in vector_base.keys():\n",
    "        matriz_asignacion[i] = 0\n",
    "    \n",
    "    while flag:\n",
    "        for i in vector_base.keys():\n",
    "            if vector_base[i] + sum(matriz_asignacion.values())<becas:\n",
    "                matriz_asignacion[i] = min(vector_base[i] + matriz_asignacion[i], poblacion[i])\n",
    "            else:\n",
    "                matriz_asignacion[i] = min(becas - sum(matriz_asignacion.values())+matriz_asignacion[i], poblacion[i])\n",
    "                flag = False\n",
    "                break\n",
    "        if sum(matriz_asignacion.values())==sum(poblacion.values()):\n",
    "            flag = False\n",
    "    \n",
    "    tmp = []\n",
    "    \n",
    "    for i in ds[column].unique():\n",
    "        tmp.append(ds.loc[ds[column] == i].iloc[:int(matriz_asignacion[i]),:])\n",
    "        \n",
    "    tmp = pd.concat(tmp)\n",
    "    \n",
    "    return matriz_asignacion, tmp\n",
    "\n",
    "becas = 50\n",
    "factor = .02\n",
    "\n",
    "ds.sort_values(by=['promedio'], inplace=True, ascending=False)\n",
    "\n",
    "#if becas>ds.shape[0]:\n",
    " #   ds_metodo_a = ds.copy()\n",
    "#else:\n",
    "summary, ds_metodo_a = selector_becas_metodo_a(ds, 'estrato', becas)"
   ]
  },
  {
   "cell_type": "markdown",
   "metadata": {},
   "source": [
    "**Misión 5**\n",
    "\n",
    "Desarrollar un algoritmo que permita conocer la población que sería becada según los criterios propuestos por el *segundo grupo* mencionado arriba."
   ]
  },
  {
   "cell_type": "code",
   "execution_count": 263,
   "metadata": {},
   "outputs": [],
   "source": [
    "# código\n",
    "\n",
    "def selector_becas_metodo_b(ds, columns, criterio, becas):\n",
    "    if (len(columns)!=2):\n",
    "        print(\"No es posible asignar, se necesitan dos columnas\")\n",
    "        return dict()\n",
    "    else:\n",
    "        tmp = ds.groupby(columns).aggregate({columns[0]:'count',\n",
    "                                             criterio:'mean'\n",
    "                                            })\n",
    "        tmp.columns = ['value','mean']\n",
    "        tmp.reset_index(inplace=True)\n",
    "\n",
    "        matriz_asignacion = dict()\n",
    "        poblacion = dict()\n",
    "\n",
    "        for i in tmp[columns + ['value']].values.tolist():\n",
    "            poblacion[(i[0],i[1])] = i[2]\n",
    "            matriz_asignacion[(i[0],i[1])] = 0\n",
    "\n",
    "        flag = True\n",
    "\n",
    "        while flag:\n",
    "            for i in tmp[columns].values.tolist():\n",
    "                if sum(matriz_asignacion.values())<becas:\n",
    "                    matriz_asignacion[tuple(i)] = min(matriz_asignacion[tuple(i)]+1, poblacion[tuple(i)])\n",
    "                else:\n",
    "                    flag = False\n",
    "\n",
    "            if sum(matriz_asignacion.values())==sum(poblacion.values()):\n",
    "                flag = False\n",
    "        \n",
    "        tmp = []\n",
    "    \n",
    "        for i in matriz_asignacion.keys():\n",
    "            tmp.append(ds.loc[np.logical_and(ds[columns[0]] == i[0],\n",
    "                                             ds[columns[1]] == i[1])\n",
    "                             ].iloc[:int(matriz_asignacion[i]),:])\n",
    "\n",
    "        tmp = pd.concat(tmp)\n",
    "        \n",
    "        return matriz_asignacion,tmp\n",
    "    \n",
    "becas=50\n",
    "\n",
    "ds.sort_values(by=['region', 'genero', 'promedio'], inplace=True, ascending=[True, True, False])\n",
    "summary, ds_metodo_b = selector_becas_metodo_b(ds, ['region', 'genero'], 'promedio', becas)"
   ]
  },
  {
   "cell_type": "markdown",
   "metadata": {},
   "source": [
    "**Misión 6**\n",
    "\n",
    "Desarrollar un algoritmo, a partir de lo anterior, cuyo resultado permita al comité comparar fácilmente las características de las dos poblaciones hipotéticas que recibirían becas.\n",
    "\n",
    "*Ayuda*: considera utilizar tus implementaciones de la *Misión 2* para facilitar esta misión."
   ]
  },
  {
   "cell_type": "code",
   "execution_count": 281,
   "metadata": {},
   "outputs": [
    {
     "name": "stdout",
     "output_type": "stream",
     "text": [
      "*****************\n",
      "Método 1\n",
      "edad\n"
     ]
    },
    {
     "data": {
      "image/png": "[encoded data removed]",
      "text/plain": [
       "<Figure size 432x288 with 1 Axes>"
      ]
     },
     "metadata": {
      "needs_background": "light"
     },
     "output_type": "display_data"
    },
    {
     "name": "stdout",
     "output_type": "stream",
     "text": [
      "estrato\n"
     ]
    },
    {
     "data": {
      "image/png": "[encoded data removed]",
      "text/plain": [
       "<Figure size 432x288 with 1 Axes>"
      ]
     },
     "metadata": {
      "needs_background": "light"
     },
     "output_type": "display_data"
    },
    {
     "name": "stdout",
     "output_type": "stream",
     "text": [
      "region\n"
     ]
    },
    {
     "data": {
      "image/png": "[encoded data removed]",
      "text/plain": [
       "<Figure size 432x288 with 1 Axes>"
      ]
     },
     "metadata": {
      "needs_background": "light"
     },
     "output_type": "display_data"
    },
    {
     "name": "stdout",
     "output_type": "stream",
     "text": [
      "estado_civil\n"
     ]
    },
    {
     "data": {
      "image/png": "[encoded data removed]",
      "text/plain": [
       "<Figure size 432x288 with 1 Axes>"
      ]
     },
     "metadata": {
      "needs_background": "light"
     },
     "output_type": "display_data"
    },
    {
     "name": "stdout",
     "output_type": "stream",
     "text": [
      "promedio\n"
     ]
    },
    {
     "data": {
      "image/png": "[encoded data removed]",
      "text/plain": [
       "<Figure size 432x288 with 1 Axes>"
      ]
     },
     "metadata": {
      "needs_background": "light"
     },
     "output_type": "display_data"
    },
    {
     "name": "stdout",
     "output_type": "stream",
     "text": [
      "escolaridad\n"
     ]
    },
    {
     "data": {
      "image/png": "[encoded data removed]",
      "text/plain": [
       "<Figure size 432x288 with 1 Axes>"
      ]
     },
     "metadata": {
      "needs_background": "light"
     },
     "output_type": "display_data"
    },
    {
     "name": "stdout",
     "output_type": "stream",
     "text": [
      "genero\n"
     ]
    },
    {
     "data": {
      "image/png": "[encoded data removed]",
      "text/plain": [
       "<Figure size 432x288 with 1 Axes>"
      ]
     },
     "metadata": {
      "needs_background": "light"
     },
     "output_type": "display_data"
    },
    {
     "name": "stdout",
     "output_type": "stream",
     "text": [
      "\n",
      "*****************\n",
      "Método 2\n",
      "edad\n"
     ]
    },
    {
     "data": {
      "image/png": "[encoded data removed]",
      "text/plain": [
       "<Figure size 432x288 with 1 Axes>"
      ]
     },
     "metadata": {
      "needs_background": "light"
     },
     "output_type": "display_data"
    },
    {
     "name": "stdout",
     "output_type": "stream",
     "text": [
      "estrato\n"
     ]
    },
    {
     "data": {
      "image/png": "[encoded data removed]",
      "text/plain": [
       "<Figure size 432x288 with 1 Axes>"
      ]
     },
     "metadata": {
      "needs_background": "light"
     },
     "output_type": "display_data"
    },
    {
     "name": "stdout",
     "output_type": "stream",
     "text": [
      "region\n"
     ]
    },
    {
     "data": {
      "image/png": "[encoded data removed]",
      "text/plain": [
       "<Figure size 432x288 with 1 Axes>"
      ]
     },
     "metadata": {
      "needs_background": "light"
     },
     "output_type": "display_data"
    },
    {
     "name": "stdout",
     "output_type": "stream",
     "text": [
      "estado_civil\n"
     ]
    },
    {
     "data": {
      "image/png": "[encoded data removed]",
      "text/plain": [
       "<Figure size 432x288 with 1 Axes>"
      ]
     },
     "metadata": {
      "needs_background": "light"
     },
     "output_type": "display_data"
    },
    {
     "name": "stdout",
     "output_type": "stream",
     "text": [
      "promedio\n"
     ]
    },
    {
     "data": {
      "image/png": "[encoded data removed]",
      "text/plain": [
       "<Figure size 432x288 with 1 Axes>"
      ]
     },
     "metadata": {
      "needs_background": "light"
     },
     "output_type": "display_data"
    },
    {
     "name": "stdout",
     "output_type": "stream",
     "text": [
      "escolaridad\n"
     ]
    },
    {
     "data": {
      "image/png": "[encoded data removed]",
      "text/plain": [
       "<Figure size 432x288 with 1 Axes>"
      ]
     },
     "metadata": {
      "needs_background": "light"
     },
     "output_type": "display_data"
    },
    {
     "name": "stdout",
     "output_type": "stream",
     "text": [
      "genero\n"
     ]
    },
    {
     "data": {
      "image/png": "[encoded data removed]",
      "text/plain": [
       "<Figure size 432x288 with 1 Axes>"
      ]
     },
     "metadata": {
      "needs_background": "light"
     },
     "output_type": "display_data"
    },
    {
     "name": "stdout",
     "output_type": "stream",
     "text": [
      "edad\n",
      "Medias:  48.88 50.88\n",
      "Min:  20.0 20.0\n",
      "Max:  80.0 80.0\n",
      "estrato\n",
      "region\n",
      "estado_civil\n",
      "promedio\n",
      "Medias:  4.3759999999999994 3.772\n",
      "Min:  3.3 0.1\n",
      "Max:  5.0 5.0\n",
      "escolaridad\n",
      "genero\n"
     ]
    }
   ],
   "source": [
    "prop_metodo_a = dict()\n",
    "prop_metodo_b = dict()\n",
    "\n",
    "print('*****************')\n",
    "print('Método 1')\n",
    "for c in ds_metodo_a.columns:\n",
    "    print(c)\n",
    "    prop_metodo_a[c] = propiedades(ds_metodo_a, c, charts=True)\n",
    "\n",
    "print('')\n",
    "print('*****************')\n",
    "print('Método 2')\n",
    "for c in ds_metodo_b.columns:\n",
    "    print(c)\n",
    "    prop_metodo_b[c] = propiedades(ds_metodo_b, c, charts=True)\n",
    "    \n",
    "for c in prop_metodo_a.keys():\n",
    "    try:\n",
    "        print(c)\n",
    "        print('Medias: ', prop_metodo_a[c]['mean'], prop_metodo_b[c]['mean'])\n",
    "        print('Min: ', prop_metodo_a[c]['min'], prop_metodo_b[c]['min'])\n",
    "        print('Max: ', prop_metodo_a[c]['max'], prop_metodo_b[c]['max'])\n",
    "    except:\n",
    "        continue"
   ]
  },
  {
   "cell_type": "markdown",
   "metadata": {},
   "source": [
    "## 3. Desarrollo de una solución analítica\n",
    "\n",
    "Reconociendo la complejidad de este problema (que no permite reducirlo a una dicotomía) y viendo el potencial del análisis de datos para enriquecer la discusión y los insumos para tomar decisiones, el comité ha solicitado una herramienta analítica que les permita . Sus requerimientos son:\n",
    "\n",
    "* La herramienta debe permitir ingresar una política de selección de becados.\n",
    "    * Se debe poder elegir el rango de edad de los aspirantes.\n",
    "    * Se debe poder elegir qué proporción de las becas se asigna a cada género, a cada estrato, o a cada región (pero sólo debe elegirse uno de estos criterios).\n",
    "* La herramienta debe generar un resultado que permita al comité analizar las características de la población potencialmente elegida si se usara la política ingresada.\n",
    "\n",
    "**Misión 7**\n",
    "\n",
    "Desarrollar, a partir de lo construido hasta el momento, un algoritmo que permita cumplir con los requerimientos del comité."
   ]
  },
  {
   "cell_type": "code",
   "execution_count": 311,
   "metadata": {},
   "outputs": [
    {
     "name": "stdout",
     "output_type": "stream",
     "text": [
      "¿Cuál es el mínimo de edad? 18\n",
      "¿Cuál es el máximo de edad? 40\n",
      "\n",
      "Distribución por géneros\n",
      "            genero\n",
      "genero            \n",
      "femenino        97\n",
      "masculino       71\n",
      "no binario      15\n",
      "otro             2\n",
      "\n",
      "Distribución por estratos\n",
      "         estrato\n",
      "estrato         \n",
      "1             38\n",
      "2             75\n",
      "3             57\n",
      "4             10\n",
      "5              5\n",
      "\n",
      "Distribución por región\n",
      "           region\n",
      "region           \n",
      "Amazonia        9\n",
      "Andina         46\n",
      "Caribe         70\n",
      "Orinoquia      16\n",
      "Pacifica       44\n",
      "\n",
      "¿Cuál criterio desea usar para segmentar a la población? (a:Género, b:Estrato, c:Región) c\n",
      "Proporción de becarios para Amazonia (Si es 5%, Ingrese 5) 1\n",
      "Proporción de becarios para Andina (Si es 5%, Ingrese 5) 20\n",
      "Proporción de becarios para Caribe (Si es 5%, Ingrese 5) 10\n",
      "Proporción de becarios para Orinoquia (Si es 5%, Ingrese 5) 5\n",
      "Proporción de becarios para Pacifica (Si es 5%, Ingrese 5) 10\n",
      "edad\n"
     ]
    },
    {
     "name": "stderr",
     "output_type": "stream",
     "text": [
      "/Users/germanpenna/opt/anaconda3/lib/python3.7/site-packages/ipykernel_launcher.py:36: SettingWithCopyWarning: \n",
      "A value is trying to be set on a copy of a slice from a DataFrame\n",
      "\n",
      "See the caveats in the documentation: https://pandas.pydata.org/pandas-docs/stable/user_guide/indexing.html#returning-a-view-versus-a-copy\n"
     ]
    },
    {
     "data": {
      "image/png": "[encoded data removed]",
      "text/plain": [
       "<Figure size 432x288 with 1 Axes>"
      ]
     },
     "metadata": {
      "needs_background": "light"
     },
     "output_type": "display_data"
    },
    {
     "name": "stdout",
     "output_type": "stream",
     "text": [
      "count    24.000000\n",
      "mean     27.375000\n",
      "std       6.418807\n",
      "min      18.000000\n",
      "25%      21.750000\n",
      "50%      26.500000\n",
      "75%      32.000000\n",
      "max      40.000000\n",
      "Name: edad, dtype: float64\n",
      "estrato\n"
     ]
    },
    {
     "data": {
      "image/png": "[encoded data removed]",
      "text/plain": [
       "<Figure size 432x288 with 1 Axes>"
      ]
     },
     "metadata": {
      "needs_background": "light"
     },
     "output_type": "display_data"
    },
    {
     "name": "stdout",
     "output_type": "stream",
     "text": [
      "count     24\n",
      "unique     3\n",
      "top        3\n",
      "freq       9\n",
      "Name: estrato, dtype: object\n",
      "region\n"
     ]
    },
    {
     "data": {
      "image/png": "[encoded data removed]",
      "text/plain": [
       "<Figure size 432x288 with 1 Axes>"
      ]
     },
     "metadata": {
      "needs_background": "light"
     },
     "output_type": "display_data"
    },
    {
     "name": "stdout",
     "output_type": "stream",
     "text": [
      "count         24\n",
      "unique         5\n",
      "top       Andina\n",
      "freq          10\n",
      "Name: region, dtype: object\n",
      "estado_civil\n"
     ]
    },
    {
     "data": {
      "image/png": "[encoded data removed]",
      "text/plain": [
       "<Figure size 432x288 with 1 Axes>"
      ]
     },
     "metadata": {
      "needs_background": "light"
     },
     "output_type": "display_data"
    },
    {
     "name": "stdout",
     "output_type": "stream",
     "text": [
      "count         24\n",
      "unique         4\n",
      "top       casada\n",
      "freq          12\n",
      "Name: estado_civil, dtype: object\n",
      "promedio\n"
     ]
    },
    {
     "data": {
      "image/png": "[encoded data removed]",
      "text/plain": [
       "<Figure size 432x288 with 1 Axes>"
      ]
     },
     "metadata": {
      "needs_background": "light"
     },
     "output_type": "display_data"
    },
    {
     "name": "stdout",
     "output_type": "stream",
     "text": [
      "count    24.000000\n",
      "mean      4.116667\n",
      "std       0.497530\n",
      "min       3.000000\n",
      "25%       3.700000\n",
      "50%       4.150000\n",
      "75%       4.400000\n",
      "max       4.900000\n",
      "Name: promedio, dtype: float64\n",
      "escolaridad\n"
     ]
    },
    {
     "data": {
      "image/png": "[encoded data removed]",
      "text/plain": [
       "<Figure size 432x288 with 1 Axes>"
      ]
     },
     "metadata": {
      "needs_background": "light"
     },
     "output_type": "display_data"
    },
    {
     "name": "stdout",
     "output_type": "stream",
     "text": [
      "count             24\n",
      "unique             2\n",
      "top       Secundaria\n",
      "freq              15\n",
      "Name: escolaridad, dtype: object\n",
      "genero\n"
     ]
    },
    {
     "data": {
      "image/png": "[encoded data removed]",
      "text/plain": [
       "<Figure size 432x288 with 1 Axes>"
      ]
     },
     "metadata": {
      "needs_background": "light"
     },
     "output_type": "display_data"
    },
    {
     "name": "stdout",
     "output_type": "stream",
     "text": [
      "count           24\n",
      "unique           3\n",
      "top       femenino\n",
      "freq            15\n",
      "Name: genero, dtype: object\n"
     ]
    }
   ],
   "source": [
    "# código\n",
    "max_e = 0\n",
    "min_e = int(input(\"¿Cuál es el mínimo de edad? \"))\n",
    "while max_e<min_e:\n",
    "    max_e = int(input(\"¿Cuál es el máximo de edad? \"))\n",
    "\n",
    "ds_edad = ds.loc[np.logical_and(ds.edad>=min_e, ds.edad<=max_e)]\n",
    "\n",
    "print('')\n",
    "print('Distribución por géneros')\n",
    "print(ds_edad.groupby('genero').aggregate({'genero':'count'}))\n",
    "print('')\n",
    "print('Distribución por estratos')\n",
    "print(ds_edad.groupby('estrato').aggregate({'estrato':'count'}))\n",
    "print('')\n",
    "print('Distribución por región')\n",
    "print(ds_edad.groupby('region').aggregate({'region':'count'}))\n",
    "\n",
    "print('')\n",
    "criterio = input('¿Cuál criterio desea usar para segmentar a la población? (a:Género, b:Estrato, c:Región) ')\n",
    "\n",
    "if criterio == 'a':\n",
    "    column = 'genero'\n",
    "elif criterio == 'b':\n",
    "    column = 'estrato'\n",
    "else:\n",
    "    column = 'region'\n",
    "    \n",
    "razones = dict()\n",
    "poblacion = dict()\n",
    "\n",
    "for i in ds_edad[column].unique():\n",
    "    razones[i] = int(input('Proporción de becarios para '+str(i)+' (Si es 5%, Ingrese 5) '))/100\n",
    "    poblacion[i] = ds_edad.loc[ds_edad[column]==i].shape[0]\n",
    "    \n",
    "ds_edad.sort_values(by=['promedio'], inplace=True, ascending=False)\n",
    "\n",
    "ds_criterios = []\n",
    "for i in razones.keys():\n",
    "    ds_criterios.append(ds_edad.loc[ds_edad[column]==i].iloc[:math.ceil(razones[i]*poblacion[i]),:])\n",
    "    \n",
    "ds_criterios = pd.concat(ds_criterios)\n",
    "\n",
    "for c in ds_criterios.columns:\n",
    "    print(c)\n",
    "    print(propiedades(ds_criterios, c, charts=True))"
   ]
  },
  {
   "cell_type": "markdown",
   "metadata": {},
   "source": [
    "**Misión 8**\n",
    "\n",
    "Proponer, con base en tu propio uso de la herramienta, una política de ingreso que consideres apropiada dado el contexto proporcionado. Si lo crees adecuado, explica, máximo 500 caracteres, las virtudes de tu propuesta (esto puede estar soportado en los datos, o no)."
   ]
  },
  {
   "cell_type": "code",
   "execution_count": 282,
   "metadata": {},
   "outputs": [],
   "source": [
    "# respuesta en texto (solo leeremos los primeros 300 caracteres de la respuesta)\n",
    "\n",
    "respuesta = 'De acuerdo a las metodologías, la mejor opción es usar un criterio para segmentar la población y a partir de allí elegir los mejores (agregar un punto de corte en el promedio). Cuando se agregan varios criterios con un método uniforme como en el segundo caso, se elige gente con promedios muy bajos'"
   ]
  },
  {
   "cell_type": "code",
   "execution_count": 284,
   "metadata": {},
   "outputs": [
    {
     "name": "stdout",
     "output_type": "stream",
     "text": [
      "298\n"
     ]
    }
   ],
   "source": [
    "print(len(respuesta))"
   ]
  },
  {
   "cell_type": "markdown",
   "metadata": {},
   "source": [
    "**Misión 9**\n",
    "\n",
    "Ejecutar el algoritmo desarrollado en la *Misión 7* sobre la política que sugieres proponer al comité. Explicar claramente tus conlusiones con el soporte de los resultados de la herramienta."
   ]
  },
  {
   "cell_type": "code",
   "execution_count": null,
   "metadata": {},
   "outputs": [],
   "source": [
    "# código\n",
    "\n",
    "conclusion = 'Si solo se usa un criterio y se ordena la población por promedio, se logra una repartición que puede funcionar. Solo le recomendaría al comité agregar un promedio mínimo de tal manera que se pueda hacer una asginación que tenga en cuenta los méritos académicos'"
   ]
  },
  {
   "cell_type": "markdown",
   "metadata": {},
   "source": [
    "## Referencias\n",
    "* Discriminación Positiva<br> \n",
    "https://es.wikipedia.org/wiki/Discriminaci%C3%B3n_positiva\n",
    "* Análisis de formulación del programa “Ser Pilo Paga”<br>\n",
    "https://repository.urosario.edu.co/handle/10336/12526\n",
    "* La acción afirmativa en la Universidad de los Andes: El caso del programa \"Oportunidades para talentos nacionales\"<br> http://www.scielo.org.co/scielo.php?script=sci_arttext&pid=S0123-885X2004000300005\n",
    "* Acción afirmativa y equidad: un análisis desde la propuesta de Thomas Nagel<br>\n",
    "http://www.scielo.org.mx/scielo.php?script=sci_arttext&pid=S2007-24062016000200049"
   ]
  },
  {
   "cell_type": "markdown",
   "metadata": {},
   "source": [
    "## Créditos"
   ]
  },
  {
   "cell_type": "markdown",
   "metadata": {},
   "source": [
    "Camilo Gómez - 11/06/21<br>\n",
    "*Revisado*: 25/08/21"
   ]
  },
  {
   "cell_type": "code",
   "execution_count": null,
   "metadata": {},
   "outputs": [],
   "source": []
  }
 ],
 "metadata": {
  "kernelspec": {
   "display_name": "Python 3",
   "language": "python",
   "name": "python3"
  },
  "language_info": {
   "codemirror_mode": {
    "name": "ipython",
    "version": 3
   },
   "file_extension": ".py",
   "mimetype": "text/x-python",
   "name": "python",
   "nbconvert_exporter": "python",
   "pygments_lexer": "ipython3",
   "version": "3.7.7"
  }
 },
 "nbformat": 4,
 "nbformat_minor": 1
}
